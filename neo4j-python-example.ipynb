{
  "nbformat": 4,
  "nbformat_minor": 0,
  "metadata": {
    "colab": {
      "name": "neo4j-python-example.ipynb",
      "provenance": [],
      "collapsed_sections": [],
      "authorship_tag": "ABX9TyPv+eWIUphFpJtwFLmnCabd",
      "include_colab_link": true
    },
    "kernelspec": {
      "name": "python3",
      "display_name": "Python 3"
    },
    "language_info": {
      "name": "python"
    }
  },
  "cells": [
    {
      "cell_type": "markdown",
      "metadata": {
        "id": "view-in-github",
        "colab_type": "text"
      },
      "source": [
        "<a href=\"https://colab.research.google.com/github/javieraespinosa/neo4j/blob/master/neo4j-python-example.ipynb\" target=\"_parent\"><img src=\"https://colab.research.google.com/assets/colab-badge.svg\" alt=\"Open In Colab\"/></a>"
      ]
    },
    {
      "cell_type": "code",
      "metadata": {
        "id": "mF1Lx_fQSNvM"
      },
      "source": [
        "from py2neo import Graph\n",
        "\n",
        "uri  = \"bolt://neo4j@neo4j:7687\"\n",
        "auth = (\"neo4j\", \"password\")\n",
        "\n",
        "graph = Graph(uri, auth=auth)"
      ],
      "execution_count": null,
      "outputs": []
    },
    {
      "cell_type": "code",
      "metadata": {
        "id": "zhlpg3rCSiff"
      },
      "source": [
        "from py2neo import Node\n",
        "\n",
        "nicole = Node(\"Person\",  name=\"Nicole\", age=24)\n",
        "drew   = Node(\"Person\",  name=\"Drew\",   age=20)\n",
        "\n",
        "mtdew    = Node(\"Drink\",   name=\"Mountain Dew\", calories=9000)\n",
        "cokezero = Node(\"Drink\", name=\"Coke Zero\",      calories=0)\n",
        "\n",
        "coke  = Node(\"Manufacturer\", name=\"Coca Cola\")\n",
        "pepsi = Node(\"Manufacturer\", name=\"Pepsi\")\n",
        "\n",
        "graph.create(nicole | drew | mtdew | cokezero | coke | pepsi)"
      ],
      "execution_count": null,
      "outputs": []
    },
    {
      "cell_type": "code",
      "metadata": {
        "id": "uX09O_vzTbpo"
      },
      "source": [
        "from py2neo import Relationship\n",
        "\n",
        "graph.create(Relationship(nicole, \"LIKES\", cokezero))\n",
        "graph.create(Relationship(nicole, \"LIKES\", mtdew))\n",
        "graph.create(Relationship(drew,   \"LIKES\", mtdew))\n",
        "graph.create(Relationship(coke,   \"MAKES\", cokezero))\n",
        "graph.create(Relationship(pepsi,  \"MAKES\", mtdew))\n"
      ],
      "execution_count": null,
      "outputs": []
    },
    {
      "cell_type": "code",
      "metadata": {
        "colab": {
          "base_uri": "https://localhost:8080/"
        },
        "id": "07iK07ZmTvSX",
        "outputId": "21b49a4a-3b08-428f-e03f-9970bb69b48e"
      },
      "source": [
        "query = \"\"\"\n",
        "MATCH (person:Person)-[:LIKES]->(drink:Drink)\n",
        "RETURN person.name AS name, drink.name AS drink\n",
        "\"\"\"\n",
        "\n",
        "data = graph.run(query)\n",
        "\n",
        "for d in data:\n",
        "    print(d)"
      ],
      "execution_count": null,
      "outputs": [
        {
          "output_type": "stream",
          "text": [
            "'Nicole'\t'Coke Zero'\n",
            "'Nicole'\t'Mountain Dew'\n",
            "'Drew'\t'Mountain Dew'\n"
          ],
          "name": "stdout"
        }
      ]
    },
    {
      "cell_type": "code",
      "metadata": {
        "id": "JmD4lfv-fsa6"
      },
      "source": [
        "# To try in Neo4j Desktop\n",
        "\"\"\"\n",
        "MATCH (person:Person)-[:LIKES]->(drink:Drink)\n",
        "RETURN person, drink\n",
        "\"\"\""
      ],
      "execution_count": null,
      "outputs": []
    }
  ]
}